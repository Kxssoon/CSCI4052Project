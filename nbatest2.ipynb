{
 "cells": [
  {
   "cell_type": "code",
   "execution_count": 13,
   "metadata": {},
   "outputs": [
    {
     "name": "stdout",
     "output_type": "stream",
     "text": [
      "Nuggets @ Celtics\n",
      "Status: 3\n",
      "{'gameId': '0012400005', 'gameCode': '20241006/DENBOS', 'gameStatus': 3, 'gameStatusText': 'Final', 'period': 4, 'gameClock': '', 'gameTimeUTC': '2024-10-06T14:00:00Z', 'gameEt': '2024-10-06T10:00:00Z', 'regulationPeriods': 4, 'ifNecessary': False, 'seriesGameNumber': '', 'gameLabel': 'Preseason', 'gameSubLabel': 'NBA Abu Dhabi Game', 'seriesText': 'Neutral Site', 'seriesConference': '', 'poRoundDesc': '', 'gameSubtype': 'Global Games', 'homeTeam': {'teamId': 1610612738, 'teamName': 'Celtics', 'teamCity': 'Boston', 'teamTricode': 'BOS', 'wins': 2, 'losses': 0, 'score': 130, 'seed': None, 'inBonus': None, 'timeoutsRemaining': 0, 'periods': [{'period': 1, 'periodType': 'REGULAR', 'score': 34}, {'period': 2, 'periodType': 'REGULAR', 'score': 33}, {'period': 3, 'periodType': 'REGULAR', 'score': 42}, {'period': 4, 'periodType': 'REGULAR', 'score': 21}]}, 'awayTeam': {'teamId': 1610612743, 'teamName': 'Nuggets', 'teamCity': 'Denver', 'teamTricode': 'DEN', 'wins': 0, 'losses': 2, 'score': 104, 'seed': None, 'inBonus': None, 'timeoutsRemaining': 0, 'periods': [{'period': 1, 'periodType': 'REGULAR', 'score': 29}, {'period': 2, 'periodType': 'REGULAR', 'score': 31}, {'period': 3, 'periodType': 'REGULAR', 'score': 16}, {'period': 4, 'periodType': 'REGULAR', 'score': 28}]}, 'gameLeaders': {'homeLeaders': {'personId': 1627759, 'name': 'Jaylen Brown', 'jerseyNum': '7', 'position': 'G-F', 'teamTricode': 'BOS', 'playerSlug': None, 'points': 21, 'rebounds': 1, 'assists': 3}, 'awayLeaders': {'personId': 203999, 'name': 'Nikola JokiÄ\\x87', 'jerseyNum': '15', 'position': 'C', 'teamTricode': 'DEN', 'playerSlug': None, 'points': 20, 'rebounds': 7, 'assists': 3}}, 'pbOdds': {'team': None, 'odds': 0.0, 'suspended': 0}}\n",
      "\n",
      "\n",
      "Knicks @ Hornets\n",
      "Status: 1\n",
      "{'gameId': '0012400006', 'gameCode': '20241006/NYKCHA', 'gameStatus': 1, 'gameStatusText': '5:00 pm ET', 'period': 0, 'gameClock': '', 'gameTimeUTC': '2024-10-06T21:00:00Z', 'gameEt': '2024-10-06T17:00:00Z', 'regulationPeriods': 4, 'ifNecessary': False, 'seriesGameNumber': '', 'gameLabel': 'Preseason', 'gameSubLabel': '', 'seriesText': '', 'seriesConference': '', 'poRoundDesc': '', 'gameSubtype': '', 'homeTeam': {'teamId': 1610612766, 'teamName': 'Hornets', 'teamCity': 'Charlotte', 'teamTricode': 'CHA', 'wins': 0, 'losses': 0, 'score': 0, 'seed': None, 'inBonus': None, 'timeoutsRemaining': 0, 'periods': [{'period': 1, 'periodType': 'REGULAR', 'score': 0}, {'period': 2, 'periodType': 'REGULAR', 'score': 0}, {'period': 3, 'periodType': 'REGULAR', 'score': 0}, {'period': 4, 'periodType': 'REGULAR', 'score': 0}]}, 'awayTeam': {'teamId': 1610612752, 'teamName': 'Knicks', 'teamCity': 'New York', 'teamTricode': 'NYK', 'wins': 0, 'losses': 0, 'score': 0, 'seed': None, 'inBonus': None, 'timeoutsRemaining': 0, 'periods': [{'period': 1, 'periodType': 'REGULAR', 'score': 0}, {'period': 2, 'periodType': 'REGULAR', 'score': 0}, {'period': 3, 'periodType': 'REGULAR', 'score': 0}, {'period': 4, 'periodType': 'REGULAR', 'score': 0}]}, 'gameLeaders': {'homeLeaders': {'personId': 0, 'name': '', 'jerseyNum': '', 'position': '', 'teamTricode': 'CHA', 'playerSlug': None, 'points': 0, 'rebounds': 0, 'assists': 0}, 'awayLeaders': {'personId': 0, 'name': '', 'jerseyNum': '', 'position': '', 'teamTricode': 'NYK', 'playerSlug': None, 'points': 0, 'rebounds': 0, 'assists': 0}}, 'pbOdds': {'team': None, 'odds': 0.0, 'suspended': 0}}\n",
      "\n",
      "\n",
      "Wizards @ Raptors\n",
      "Status: 1\n",
      "{'gameId': '0012400007', 'gameCode': '20241006/WASTOR', 'gameStatus': 1, 'gameStatusText': '7:30 pm ET', 'period': 0, 'gameClock': '', 'gameTimeUTC': '2024-10-06T23:30:00Z', 'gameEt': '2024-10-06T19:30:00Z', 'regulationPeriods': 4, 'ifNecessary': False, 'seriesGameNumber': '', 'gameLabel': 'Preseason', 'gameSubLabel': 'NBA Montreal Game', 'seriesText': 'Neutral Site', 'seriesConference': '', 'poRoundDesc': '', 'gameSubtype': 'Global Games', 'homeTeam': {'teamId': 1610612761, 'teamName': 'Raptors', 'teamCity': 'Toronto', 'teamTricode': 'TOR', 'wins': 0, 'losses': 0, 'score': 0, 'seed': None, 'inBonus': None, 'timeoutsRemaining': 0, 'periods': [{'period': 1, 'periodType': 'REGULAR', 'score': 0}, {'period': 2, 'periodType': 'REGULAR', 'score': 0}, {'period': 3, 'periodType': 'REGULAR', 'score': 0}, {'period': 4, 'periodType': 'REGULAR', 'score': 0}]}, 'awayTeam': {'teamId': 1610612764, 'teamName': 'Wizards', 'teamCity': 'Washington', 'teamTricode': 'WAS', 'wins': 0, 'losses': 0, 'score': 0, 'seed': None, 'inBonus': None, 'timeoutsRemaining': 0, 'periods': [{'period': 1, 'periodType': 'REGULAR', 'score': 0}, {'period': 2, 'periodType': 'REGULAR', 'score': 0}, {'period': 3, 'periodType': 'REGULAR', 'score': 0}, {'period': 4, 'periodType': 'REGULAR', 'score': 0}]}, 'gameLeaders': {'homeLeaders': {'personId': 0, 'name': '', 'jerseyNum': '', 'position': '', 'teamTricode': 'TOR', 'playerSlug': None, 'points': 0, 'rebounds': 0, 'assists': 0}, 'awayLeaders': {'personId': 0, 'name': '', 'jerseyNum': '', 'position': '', 'teamTricode': 'WAS', 'playerSlug': None, 'points': 0, 'rebounds': 0, 'assists': 0}}, 'pbOdds': {'team': None, 'odds': 0.0, 'suspended': 0}}\n",
      "\n",
      "\n",
      "Bucks @ Pistons\n",
      "Status: 1\n",
      "{'gameId': '0012400008', 'gameCode': '20241006/MILDET', 'gameStatus': 1, 'gameStatusText': '8:00 pm ET', 'period': 0, 'gameClock': '', 'gameTimeUTC': '2024-10-07T00:00:00Z', 'gameEt': '2024-10-06T20:00:00Z', 'regulationPeriods': 4, 'ifNecessary': False, 'seriesGameNumber': '', 'gameLabel': 'Preseason', 'gameSubLabel': '', 'seriesText': '', 'seriesConference': '', 'poRoundDesc': '', 'gameSubtype': '', 'homeTeam': {'teamId': 1610612765, 'teamName': 'Pistons', 'teamCity': 'Detroit', 'teamTricode': 'DET', 'wins': 0, 'losses': 0, 'score': 0, 'seed': None, 'inBonus': None, 'timeoutsRemaining': 0, 'periods': [{'period': 1, 'periodType': 'REGULAR', 'score': 0}, {'period': 2, 'periodType': 'REGULAR', 'score': 0}, {'period': 3, 'periodType': 'REGULAR', 'score': 0}, {'period': 4, 'periodType': 'REGULAR', 'score': 0}]}, 'awayTeam': {'teamId': 1610612749, 'teamName': 'Bucks', 'teamCity': 'Milwaukee', 'teamTricode': 'MIL', 'wins': 0, 'losses': 0, 'score': 0, 'seed': None, 'inBonus': None, 'timeoutsRemaining': 0, 'periods': [{'period': 1, 'periodType': 'REGULAR', 'score': 0}, {'period': 2, 'periodType': 'REGULAR', 'score': 0}, {'period': 3, 'periodType': 'REGULAR', 'score': 0}, {'period': 4, 'periodType': 'REGULAR', 'score': 0}]}, 'gameLeaders': {'homeLeaders': {'personId': 0, 'name': '', 'jerseyNum': '', 'position': '', 'teamTricode': 'DET', 'playerSlug': None, 'points': 0, 'rebounds': 0, 'assists': 0}, 'awayLeaders': {'personId': 0, 'name': '', 'jerseyNum': '', 'position': '', 'teamTricode': 'MIL', 'playerSlug': None, 'points': 0, 'rebounds': 0, 'assists': 0}}, 'pbOdds': {'team': None, 'odds': 0.0, 'suspended': 0}}\n",
      "\n",
      "\n",
      "Suns @ Lakers\n",
      "Status: 1\n",
      "{'gameId': '0012400009', 'gameCode': '20241006/PHXLAL', 'gameStatus': 1, 'gameStatusText': '9:30 pm ET', 'period': 0, 'gameClock': '', 'gameTimeUTC': '2024-10-07T01:30:00Z', 'gameEt': '2024-10-06T21:30:00Z', 'regulationPeriods': 4, 'ifNecessary': False, 'seriesGameNumber': '', 'gameLabel': 'Preseason', 'gameSubLabel': '', 'seriesText': '', 'seriesConference': '', 'poRoundDesc': '', 'gameSubtype': '', 'homeTeam': {'teamId': 1610612747, 'teamName': 'Lakers', 'teamCity': 'Los Angeles', 'teamTricode': 'LAL', 'wins': 0, 'losses': 0, 'score': 0, 'seed': None, 'inBonus': None, 'timeoutsRemaining': 0, 'periods': [{'period': 1, 'periodType': 'REGULAR', 'score': 0}, {'period': 2, 'periodType': 'REGULAR', 'score': 0}, {'period': 3, 'periodType': 'REGULAR', 'score': 0}, {'period': 4, 'periodType': 'REGULAR', 'score': 0}]}, 'awayTeam': {'teamId': 1610612756, 'teamName': 'Suns', 'teamCity': 'Phoenix', 'teamTricode': 'PHX', 'wins': 0, 'losses': 0, 'score': 0, 'seed': None, 'inBonus': None, 'timeoutsRemaining': 0, 'periods': [{'period': 1, 'periodType': 'REGULAR', 'score': 0}, {'period': 2, 'periodType': 'REGULAR', 'score': 0}, {'period': 3, 'periodType': 'REGULAR', 'score': 0}, {'period': 4, 'periodType': 'REGULAR', 'score': 0}]}, 'gameLeaders': {'homeLeaders': {'personId': 0, 'name': '', 'jerseyNum': '', 'position': '', 'teamTricode': 'LAL', 'playerSlug': None, 'points': 0, 'rebounds': 0, 'assists': 0}, 'awayLeaders': {'personId': 0, 'name': '', 'jerseyNum': '', 'position': '', 'teamTricode': 'PHX', 'playerSlug': None, 'points': 0, 'rebounds': 0, 'assists': 0}}, 'pbOdds': {'team': None, 'odds': 0.0, 'suspended': 0}}\n",
      "\n",
      "\n",
      "[{'gameId': '0012400005', 'gameCode': '20241006/DENBOS', 'gameStatus': 3, 'gameStatusText': 'Final', 'period': 4, 'gameClock': '', 'gameTimeUTC': '2024-10-06T14:00:00Z', 'gameEt': '2024-10-06T10:00:00Z', 'regulationPeriods': 4, 'ifNecessary': False, 'seriesGameNumber': '', 'gameLabel': 'Preseason', 'gameSubLabel': 'NBA Abu Dhabi Game', 'seriesText': 'Neutral Site', 'seriesConference': '', 'poRoundDesc': '', 'gameSubtype': 'Global Games', 'homeTeam': {'teamId': 1610612738, 'teamName': 'Celtics', 'teamCity': 'Boston', 'teamTricode': 'BOS', 'wins': 2, 'losses': 0, 'score': 130, 'seed': None, 'inBonus': None, 'timeoutsRemaining': 0, 'periods': [{'period': 1, 'periodType': 'REGULAR', 'score': 34}, {'period': 2, 'periodType': 'REGULAR', 'score': 33}, {'period': 3, 'periodType': 'REGULAR', 'score': 42}, {'period': 4, 'periodType': 'REGULAR', 'score': 21}]}, 'awayTeam': {'teamId': 1610612743, 'teamName': 'Nuggets', 'teamCity': 'Denver', 'teamTricode': 'DEN', 'wins': 0, 'losses': 2, 'score': 104, 'seed': None, 'inBonus': None, 'timeoutsRemaining': 0, 'periods': [{'period': 1, 'periodType': 'REGULAR', 'score': 29}, {'period': 2, 'periodType': 'REGULAR', 'score': 31}, {'period': 3, 'periodType': 'REGULAR', 'score': 16}, {'period': 4, 'periodType': 'REGULAR', 'score': 28}]}, 'gameLeaders': {'homeLeaders': {'personId': 1627759, 'name': 'Jaylen Brown', 'jerseyNum': '7', 'position': 'G-F', 'teamTricode': 'BOS', 'playerSlug': None, 'points': 21, 'rebounds': 1, 'assists': 3}, 'awayLeaders': {'personId': 203999, 'name': 'Nikola JokiÄ\\x87', 'jerseyNum': '15', 'position': 'C', 'teamTricode': 'DEN', 'playerSlug': None, 'points': 20, 'rebounds': 7, 'assists': 3}}, 'pbOdds': {'team': None, 'odds': 0.0, 'suspended': 0}}, {'gameId': '0012400006', 'gameCode': '20241006/NYKCHA', 'gameStatus': 1, 'gameStatusText': '5:00 pm ET', 'period': 0, 'gameClock': '', 'gameTimeUTC': '2024-10-06T21:00:00Z', 'gameEt': '2024-10-06T17:00:00Z', 'regulationPeriods': 4, 'ifNecessary': False, 'seriesGameNumber': '', 'gameLabel': 'Preseason', 'gameSubLabel': '', 'seriesText': '', 'seriesConference': '', 'poRoundDesc': '', 'gameSubtype': '', 'homeTeam': {'teamId': 1610612766, 'teamName': 'Hornets', 'teamCity': 'Charlotte', 'teamTricode': 'CHA', 'wins': 0, 'losses': 0, 'score': 0, 'seed': None, 'inBonus': None, 'timeoutsRemaining': 0, 'periods': [{'period': 1, 'periodType': 'REGULAR', 'score': 0}, {'period': 2, 'periodType': 'REGULAR', 'score': 0}, {'period': 3, 'periodType': 'REGULAR', 'score': 0}, {'period': 4, 'periodType': 'REGULAR', 'score': 0}]}, 'awayTeam': {'teamId': 1610612752, 'teamName': 'Knicks', 'teamCity': 'New York', 'teamTricode': 'NYK', 'wins': 0, 'losses': 0, 'score': 0, 'seed': None, 'inBonus': None, 'timeoutsRemaining': 0, 'periods': [{'period': 1, 'periodType': 'REGULAR', 'score': 0}, {'period': 2, 'periodType': 'REGULAR', 'score': 0}, {'period': 3, 'periodType': 'REGULAR', 'score': 0}, {'period': 4, 'periodType': 'REGULAR', 'score': 0}]}, 'gameLeaders': {'homeLeaders': {'personId': 0, 'name': '', 'jerseyNum': '', 'position': '', 'teamTricode': 'CHA', 'playerSlug': None, 'points': 0, 'rebounds': 0, 'assists': 0}, 'awayLeaders': {'personId': 0, 'name': '', 'jerseyNum': '', 'position': '', 'teamTricode': 'NYK', 'playerSlug': None, 'points': 0, 'rebounds': 0, 'assists': 0}}, 'pbOdds': {'team': None, 'odds': 0.0, 'suspended': 0}}, {'gameId': '0012400007', 'gameCode': '20241006/WASTOR', 'gameStatus': 1, 'gameStatusText': '7:30 pm ET', 'period': 0, 'gameClock': '', 'gameTimeUTC': '2024-10-06T23:30:00Z', 'gameEt': '2024-10-06T19:30:00Z', 'regulationPeriods': 4, 'ifNecessary': False, 'seriesGameNumber': '', 'gameLabel': 'Preseason', 'gameSubLabel': 'NBA Montreal Game', 'seriesText': 'Neutral Site', 'seriesConference': '', 'poRoundDesc': '', 'gameSubtype': 'Global Games', 'homeTeam': {'teamId': 1610612761, 'teamName': 'Raptors', 'teamCity': 'Toronto', 'teamTricode': 'TOR', 'wins': 0, 'losses': 0, 'score': 0, 'seed': None, 'inBonus': None, 'timeoutsRemaining': 0, 'periods': [{'period': 1, 'periodType': 'REGULAR', 'score': 0}, {'period': 2, 'periodType': 'REGULAR', 'score': 0}, {'period': 3, 'periodType': 'REGULAR', 'score': 0}, {'period': 4, 'periodType': 'REGULAR', 'score': 0}]}, 'awayTeam': {'teamId': 1610612764, 'teamName': 'Wizards', 'teamCity': 'Washington', 'teamTricode': 'WAS', 'wins': 0, 'losses': 0, 'score': 0, 'seed': None, 'inBonus': None, 'timeoutsRemaining': 0, 'periods': [{'period': 1, 'periodType': 'REGULAR', 'score': 0}, {'period': 2, 'periodType': 'REGULAR', 'score': 0}, {'period': 3, 'periodType': 'REGULAR', 'score': 0}, {'period': 4, 'periodType': 'REGULAR', 'score': 0}]}, 'gameLeaders': {'homeLeaders': {'personId': 0, 'name': '', 'jerseyNum': '', 'position': '', 'teamTricode': 'TOR', 'playerSlug': None, 'points': 0, 'rebounds': 0, 'assists': 0}, 'awayLeaders': {'personId': 0, 'name': '', 'jerseyNum': '', 'position': '', 'teamTricode': 'WAS', 'playerSlug': None, 'points': 0, 'rebounds': 0, 'assists': 0}}, 'pbOdds': {'team': None, 'odds': 0.0, 'suspended': 0}}, {'gameId': '0012400008', 'gameCode': '20241006/MILDET', 'gameStatus': 1, 'gameStatusText': '8:00 pm ET', 'period': 0, 'gameClock': '', 'gameTimeUTC': '2024-10-07T00:00:00Z', 'gameEt': '2024-10-06T20:00:00Z', 'regulationPeriods': 4, 'ifNecessary': False, 'seriesGameNumber': '', 'gameLabel': 'Preseason', 'gameSubLabel': '', 'seriesText': '', 'seriesConference': '', 'poRoundDesc': '', 'gameSubtype': '', 'homeTeam': {'teamId': 1610612765, 'teamName': 'Pistons', 'teamCity': 'Detroit', 'teamTricode': 'DET', 'wins': 0, 'losses': 0, 'score': 0, 'seed': None, 'inBonus': None, 'timeoutsRemaining': 0, 'periods': [{'period': 1, 'periodType': 'REGULAR', 'score': 0}, {'period': 2, 'periodType': 'REGULAR', 'score': 0}, {'period': 3, 'periodType': 'REGULAR', 'score': 0}, {'period': 4, 'periodType': 'REGULAR', 'score': 0}]}, 'awayTeam': {'teamId': 1610612749, 'teamName': 'Bucks', 'teamCity': 'Milwaukee', 'teamTricode': 'MIL', 'wins': 0, 'losses': 0, 'score': 0, 'seed': None, 'inBonus': None, 'timeoutsRemaining': 0, 'periods': [{'period': 1, 'periodType': 'REGULAR', 'score': 0}, {'period': 2, 'periodType': 'REGULAR', 'score': 0}, {'period': 3, 'periodType': 'REGULAR', 'score': 0}, {'period': 4, 'periodType': 'REGULAR', 'score': 0}]}, 'gameLeaders': {'homeLeaders': {'personId': 0, 'name': '', 'jerseyNum': '', 'position': '', 'teamTricode': 'DET', 'playerSlug': None, 'points': 0, 'rebounds': 0, 'assists': 0}, 'awayLeaders': {'personId': 0, 'name': '', 'jerseyNum': '', 'position': '', 'teamTricode': 'MIL', 'playerSlug': None, 'points': 0, 'rebounds': 0, 'assists': 0}}, 'pbOdds': {'team': None, 'odds': 0.0, 'suspended': 0}}, {'gameId': '0012400009', 'gameCode': '20241006/PHXLAL', 'gameStatus': 1, 'gameStatusText': '9:30 pm ET', 'period': 0, 'gameClock': '', 'gameTimeUTC': '2024-10-07T01:30:00Z', 'gameEt': '2024-10-06T21:30:00Z', 'regulationPeriods': 4, 'ifNecessary': False, 'seriesGameNumber': '', 'gameLabel': 'Preseason', 'gameSubLabel': '', 'seriesText': '', 'seriesConference': '', 'poRoundDesc': '', 'gameSubtype': '', 'homeTeam': {'teamId': 1610612747, 'teamName': 'Lakers', 'teamCity': 'Los Angeles', 'teamTricode': 'LAL', 'wins': 0, 'losses': 0, 'score': 0, 'seed': None, 'inBonus': None, 'timeoutsRemaining': 0, 'periods': [{'period': 1, 'periodType': 'REGULAR', 'score': 0}, {'period': 2, 'periodType': 'REGULAR', 'score': 0}, {'period': 3, 'periodType': 'REGULAR', 'score': 0}, {'period': 4, 'periodType': 'REGULAR', 'score': 0}]}, 'awayTeam': {'teamId': 1610612756, 'teamName': 'Suns', 'teamCity': 'Phoenix', 'teamTricode': 'PHX', 'wins': 0, 'losses': 0, 'score': 0, 'seed': None, 'inBonus': None, 'timeoutsRemaining': 0, 'periods': [{'period': 1, 'periodType': 'REGULAR', 'score': 0}, {'period': 2, 'periodType': 'REGULAR', 'score': 0}, {'period': 3, 'periodType': 'REGULAR', 'score': 0}, {'period': 4, 'periodType': 'REGULAR', 'score': 0}]}, 'gameLeaders': {'homeLeaders': {'personId': 0, 'name': '', 'jerseyNum': '', 'position': '', 'teamTricode': 'LAL', 'playerSlug': None, 'points': 0, 'rebounds': 0, 'assists': 0}, 'awayLeaders': {'personId': 0, 'name': '', 'jerseyNum': '', 'position': '', 'teamTricode': 'PHX', 'playerSlug': None, 'points': 0, 'rebounds': 0, 'assists': 0}}, 'pbOdds': {'team': None, 'odds': 0.0, 'suspended': 0}}]\n"
     ]
    }
   ],
   "source": [
    "from nba_api.live.nba.endpoints import scoreboard\n",
    "\n",
    "# Get the scoreboard for the specified date\n",
    "scores = scoreboard.ScoreBoard()\n",
    "\n",
    "# Extract the games data\n",
    "games = scores.get_dict()['scoreboard']['games']\n",
    "\n",
    "# Print information about each game\n",
    "for game in games:\n",
    "    home_team = game['homeTeam']['teamName']\n",
    "    away_team = game['awayTeam']['teamName']\n",
    "    game_status = game['gameStatus']\n",
    "    \n",
    "    print(f\"{away_team} @ {home_team}\")\n",
    "    print(f\"Status: {game_status}\")\n",
    "    print(game)\n",
    "    \n",
    "    if game_status == 1:  # Game hasn't started yet\n",
    "        home_score = game['homeTeam']['score']\n",
    "        away_score = game['awayTeam']['score']\n",
    "        \n",
    "    \n",
    "    print(\"\\n\")\n",
    "print(games)"
   ]
  },
  {
   "cell_type": "code",
   "execution_count": 15,
   "metadata": {},
   "outputs": [
    {
     "name": "stdout",
     "output_type": "stream",
     "text": [
      "      Team_ID     Game_ID     GAME_DATE      MATCHUP WL   W   L  W_PCT  MIN  \\\n",
      "0  1610612744  0022201230  APR 09, 2023    GSW @ POR  W  44  38  0.537  240   \n",
      "1  1610612744  0022201211  APR 07, 2023    GSW @ SAC  W  43  38  0.531  240   \n",
      "2  1610612744  0022201187  APR 04, 2023  GSW vs. OKC  W  42  38  0.525  240   \n",
      "3  1610612744  0022201175  APR 02, 2023    GSW @ DEN  L  41  38  0.519  240   \n",
      "4  1610612744  0022201158  MAR 31, 2023  GSW vs. SAS  W  41  37  0.526  240   \n",
      "\n",
      "   FGM  ...  FT_PCT  OREB  DREB  REB  AST  STL  BLK  TOV  PF  PTS  \n",
      "0   58  ...   0.875     9    49   58   47   13    6   15  18  157  \n",
      "1   41  ...   0.875    10    37   47   36    6    7   24  22  119  \n",
      "2   47  ...   0.733    19    35   54   25    6    6   13  22  136  \n",
      "3   42  ...   1.000    22    35   57   26    9    4   15  22  110  \n",
      "4   47  ...   0.714    14    31   45   37    5    4   14  18  130  \n",
      "\n",
      "[5 rows x 27 columns]\n",
      "WL\n",
      "W    44\n",
      "L    38\n",
      "Name: count, dtype: int64\n",
      "118.9390243902439\n"
     ]
    }
   ],
   "source": [
    "from nba_api.stats.endpoints import teamgamelog\n",
    "import pandas as pd\n",
    "\n",
    "def get_team_game_log(team_id, season):\n",
    "    # Get the team game log\n",
    "    game_log = teamgamelog.TeamGameLog(team_id=team_id, season=season)\n",
    "    \n",
    "    # Convert to DataFrame\n",
    "    df = game_log.get_data_frames()[0]\n",
    "    return df\n",
    "\n",
    "# Get the team ID (e.g., Golden State Warriors)\n",
    "team_id = '1610612744'  # You can get this from nba_api.stats.static.teams\n",
    "\n",
    "# Specify the season (e.g., 2022-23 season)\n",
    "season = '2022-23'\n",
    "\n",
    "# Get the team game log\n",
    "game_log = teamgamelog.TeamGameLog(team_id=team_id, season=season)\n",
    "\n",
    "# Convert to DataFrame\n",
    "df = game_log.get_data_frames()[0]\n",
    "# Display the first few rows\n",
    "print(df.head())\n",
    "\n",
    "# Get basic statistics\n",
    "print(df['WL'].value_counts())  # Count of wins and losses\n",
    "print(df['PTS'].mean())  # Average points per game"
   ]
  },
  {
   "cell_type": "code",
   "execution_count": 16,
   "metadata": {},
   "outputs": [
    {
     "name": "stdout",
     "output_type": "stream",
     "text": [
      "Accuracy: 0.71\n",
      "Classification Report:\n",
      "              precision    recall  f1-score   support\n",
      "\n",
      "           0       1.00      0.44      0.62         9\n",
      "           1       0.62      1.00      0.76         8\n",
      "\n",
      "    accuracy                           0.71        17\n",
      "   macro avg       0.81      0.72      0.69        17\n",
      "weighted avg       0.82      0.71      0.68        17\n",
      "\n"
     ]
    },
    {
     "name": "stderr",
     "output_type": "stream",
     "text": [
      "c:\\Users\\nicho\\AppData\\Local\\Programs\\Python\\Python312\\Lib\\site-packages\\sklearn\\neural_network\\_multilayer_perceptron.py:690: ConvergenceWarning: Stochastic Optimizer: Maximum iterations (300) reached and the optimization hasn't converged yet.\n",
      "  warnings.warn(\n"
     ]
    }
   ],
   "source": [
    "import pandas as pd\n",
    "from sklearn.model_selection import train_test_split\n",
    "from sklearn.preprocessing import StandardScaler, LabelEncoder\n",
    "from sklearn.neural_network import MLPClassifier\n",
    "from sklearn.metrics import accuracy_score, classification_report\n",
    "\n",
    "# Function to get the matchups \n",
    "def get_team_game_log(team_id, season):\n",
    "    game_log = teamgamelog.TeamGameLog(team_id=team_id, season=season)\n",
    "    df = game_log.get_data_frames()[0]\n",
    "    return df\n",
    "\n",
    "# Get the team ID and season\n",
    "team_id = '1610612744'  # Golden State Warriors\n",
    "season = '2022-23'\n",
    "\n",
    "# Fetch the data \n",
    "df = get_team_game_log(team_id, season)\n",
    "\n",
    "# Select features and target variable\n",
    "features = df[['FGM', 'FGA', 'FG_PCT', 'FG3M', 'FG3A', 'FG3_PCT', 'FTM', 'FTA', 'FT_PCT', \n",
    "               'OREB', 'DREB', 'REB', 'AST', 'STL', 'BLK', 'TOV', 'PF', 'PTS']]\n",
    "target = df['WL']\n",
    "\n",
    "# Encode target variable (Win = 1, Loss = 0)\n",
    "label_encoder = LabelEncoder()\n",
    "target_encoded = label_encoder.fit_transform(target)\n",
    "\n",
    "# Split the data into training and testing sets\n",
    "X_train, X_test, y_train, y_test = train_test_split(features, target_encoded, test_size=0.2, random_state=42)\n",
    "\n",
    "# Standardize the features\n",
    "scaler = StandardScaler()\n",
    "X_train_scaled = scaler.fit_transform(X_train)\n",
    "X_test_scaled = scaler.transform(X_test)\n",
    "\n",
    "# Define the MLP model\n",
    "mlp_model = MLPClassifier(hidden_layer_sizes=(100,), max_iter=300, activation='relu', solver='adam', random_state=42)\n",
    "\n",
    "# Train the model\n",
    "mlp_model.fit(X_train_scaled, y_train)\n",
    "\n",
    "# Make predictions\n",
    "y_pred = mlp_model.predict(X_test_scaled)\n",
    "\n",
    "# Evaluate the model\n",
    "accuracy = accuracy_score(y_test, y_pred)\n",
    "report = classification_report(y_test, y_pred)\n",
    "\n",
    "print(f\"Accuracy: {accuracy:.2f}\")\n",
    "print(\"Classification Report:\")\n",
    "print(report)\n"
   ]
  },
  {
   "cell_type": "markdown",
   "metadata": {},
   "source": []
  }
 ],
 "metadata": {
  "kernelspec": {
   "display_name": "Python 3",
   "language": "python",
   "name": "python3"
  },
  "language_info": {
   "codemirror_mode": {
    "name": "ipython",
    "version": 3
   },
   "file_extension": ".py",
   "mimetype": "text/x-python",
   "name": "python",
   "nbconvert_exporter": "python",
   "pygments_lexer": "ipython3",
   "version": "3.12.4"
  }
 },
 "nbformat": 4,
 "nbformat_minor": 2
}
